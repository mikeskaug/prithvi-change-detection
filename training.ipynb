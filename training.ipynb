{
 "cells": [
  {
   "cell_type": "code",
   "execution_count": 1,
   "id": "d1efed4e-a836-46cc-9caa-a1d795fcda8d",
   "metadata": {},
   "outputs": [
    {
     "name": "stderr",
     "output_type": "stream",
     "text": [
      "/Users/michaelskaug/venv/prithvi-change-detection/lib/python3.11/site-packages/tqdm/auto.py:21: TqdmWarning: IProgress not found. Please update jupyter and ipywidgets. See https://ipywidgets.readthedocs.io/en/stable/user_install.html\n",
      "  from .autonotebook import tqdm as notebook_tqdm\n"
     ]
    }
   ],
   "source": [
    "\n",
    "import torch\n",
    "import yaml\n",
    "\n",
    "from prithvi_100m.Prithvi import MaskedAutoencoderViT\n",
    "from dataset import XBDDataset"
   ]
  },
  {
   "cell_type": "markdown",
   "id": "5805a986-13d2-4002-834b-79e4998d8a2b",
   "metadata": {},
   "source": [
    "# Model"
   ]
  },
  {
   "cell_type": "code",
   "execution_count": 2,
   "id": "ba2de603-d73a-47c2-8a90-57e21e02fca5",
   "metadata": {},
   "outputs": [],
   "source": [
    "# load weights\n",
    "weights_path = \"./prithvi_100m/Prithvi_100M.pt\"\n",
    "checkpoint = torch.load(weights_path, map_location=\"cpu\")\n",
    "\n",
    "# read model config\n",
    "model_cfg_path = \"./prithvi_100m/Prithvi_100M_config.yaml\"\n",
    "with open(model_cfg_path) as f:\n",
    "    model_config = yaml.safe_load(f)\n",
    "\n",
    "model_args = model_config[\"model_args\"]\n",
    "train_args = model_config[\"train_params\"]\n",
    "\n",
    "# 2 frames: pre image and post image\n",
    "model_args[\"num_frames\"] = 2\n",
    "\n",
    "# instantiate model\n",
    "model = MaskedAutoencoderViT(**model_args)\n",
    "model.eval()\n",
    "\n",
    "# load weights into model\n",
    "del checkpoint['pos_embed']\n",
    "del checkpoint['decoder_pos_embed']\n",
    "_ = model.load_state_dict(checkpoint, strict=False)"
   ]
  },
  {
   "cell_type": "markdown",
   "id": "506b5aa4-5064-4b1b-b7c2-bb2ff35671da",
   "metadata": {},
   "source": [
    "# Data"
   ]
  },
  {
   "cell_type": "code",
   "execution_count": 3,
   "id": "c1a6c5d9-233c-4202-a6ae-75738cc090c2",
   "metadata": {},
   "outputs": [],
   "source": [
    "dataset = XBDDataset('data/geotiffs/tier1')"
   ]
  },
  {
   "cell_type": "code",
   "execution_count": null,
   "id": "8620a3cb-1db8-4703-b473-d97241230468",
   "metadata": {},
   "outputs": [],
   "source": []
  }
 ],
 "metadata": {
  "kernelspec": {
   "display_name": "Python 3 (ipykernel)",
   "language": "python",
   "name": "python3"
  },
  "language_info": {
   "codemirror_mode": {
    "name": "ipython",
    "version": 3
   },
   "file_extension": ".py",
   "mimetype": "text/x-python",
   "name": "python",
   "nbconvert_exporter": "python",
   "pygments_lexer": "ipython3",
   "version": "3.11.4"
  }
 },
 "nbformat": 4,
 "nbformat_minor": 5
}
