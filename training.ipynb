{
 "cells": [
  {
   "cell_type": "code",
   "execution_count": 1,
   "id": "d1efed4e-a836-46cc-9caa-a1d795fcda8d",
   "metadata": {},
   "outputs": [
    {
     "name": "stderr",
     "output_type": "stream",
     "text": [
      "/Users/michaelskaug/venv/prithvi-change-detection/lib/python3.11/site-packages/tqdm/auto.py:21: TqdmWarning: IProgress not found. Please update jupyter and ipywidgets. See https://ipywidgets.readthedocs.io/en/stable/user_install.html\n",
      "  from .autonotebook import tqdm as notebook_tqdm\n"
     ]
    }
   ],
   "source": [
    "\n",
    "import torch\n",
    "import yaml\n",
    "import numpy as np\n",
    "\n",
    "from prithvi_100m.Prithvi import MaskedAutoencoderViT\n",
    "from dataset import XBDDataset\n",
    "from model import DamageSegmentation\n",
    "from model_compiler import ModelCompiler\n",
    "from config import MODEL_ARGS, CLASS_MAPPING"
   ]
  },
  {
   "cell_type": "markdown",
   "id": "5805a986-13d2-4002-834b-79e4998d8a2b",
   "metadata": {},
   "source": [
    "# Model"
   ]
  },
  {
   "cell_type": "markdown",
   "id": "93d85cba-a91d-4411-b456-0e5743f41766",
   "metadata": {},
   "source": [
    "### Pre-trained encoder"
   ]
  },
  {
   "cell_type": "code",
   "execution_count": 2,
   "id": "ba2de603-d73a-47c2-8a90-57e21e02fca5",
   "metadata": {},
   "outputs": [
    {
     "data": {
      "text/plain": [
       "_IncompatibleKeys(missing_keys=['pos_embed', 'decoder_pos_embed', 'decoder_pred.weight', 'decoder_pred.bias'], unexpected_keys=[])"
      ]
     },
     "execution_count": 2,
     "metadata": {},
     "output_type": "execute_result"
    }
   ],
   "source": [
    "# load weights\n",
    "weights_path = './prithvi_100m/Prithvi_100M.pt'\n",
    "checkpoint = torch.load(weights_path, map_location='cpu')\n",
    "\n",
    "# Drop the weights associated with the three IR channels which don't exist in this dataset\n",
    "checkpoint['patch_embed.proj.weight'] = checkpoint['patch_embed.proj.weight'][:,:3]\n",
    "\n",
    "# read model config\n",
    "model_cfg_path = './prithvi_100m/Prithvi_100M_config.yaml'\n",
    "with open(model_cfg_path) as f:\n",
    "    model_config = yaml.safe_load(f)\n",
    "\n",
    "model_args = model_config['model_args']\n",
    "train_args = model_config['train_params']\n",
    "\n",
    "# 2 frames: pre image and post image\n",
    "model_args['num_frames'] = 2\n",
    "\n",
    "model_args['img_size'] = 1024\n",
    "\n",
    "model_args['in_chans'] = 3\n",
    "\n",
    "# instantiate model\n",
    "encoder_model = MaskedAutoencoderViT(**model_args)\n",
    "encoder_model.eval()\n",
    "\n",
    "# load weights into model\n",
    "del checkpoint['pos_embed']\n",
    "del checkpoint['decoder_pos_embed']\n",
    "del checkpoint['decoder_pred.weight']\n",
    "del checkpoint['decoder_pred.bias']\n",
    "encoder_model.load_state_dict(checkpoint, strict=False)"
   ]
  },
  {
   "cell_type": "markdown",
   "id": "8432edfb-035e-4e11-a860-06d1a17850c2",
   "metadata": {},
   "source": [
    "### Segmentation model"
   ]
  },
  {
   "cell_type": "code",
   "execution_count": 3,
   "id": "d79cd1a9-0ced-4711-9013-ee8595eb3c7b",
   "metadata": {},
   "outputs": [],
   "source": [
    "segmentation_model = DamageSegmentation(\n",
    "    encoder_model.forward_encoder\n",
    ")"
   ]
  },
  {
   "cell_type": "code",
   "execution_count": 5,
   "id": "e62fde89-60e7-43ec-85ff-a0930f668658",
   "metadata": {},
   "outputs": [
    {
     "name": "stdout",
     "output_type": "stream",
     "text": [
      "----------No GPU available, using CPU instead----------\n",
      "initialize network with kaiming.\n",
      "total number of trainable parameters: 14.1M\n",
      "---------- Vanilla Model compiled successfully ----------\n"
     ]
    }
   ],
   "source": [
    "compiled_model = ModelCompiler(\n",
    "    segmentation_model,\n",
    "    out_dir=MODEL_ARGS['out_dir'],\n",
    "    num_classes=MODEL_ARGS['num_classes'],\n",
    "    class_mapping=CLASS_MAPPING,\n",
    "    model_init_type=MODEL_ARGS['model_init_type'],\n",
    ")"
   ]
  },
  {
   "cell_type": "markdown",
   "id": "506b5aa4-5064-4b1b-b7c2-bb2ff35671da",
   "metadata": {},
   "source": [
    "# Data"
   ]
  },
  {
   "cell_type": "code",
   "execution_count": 6,
   "id": "c1a6c5d9-233c-4202-a6ae-75738cc090c2",
   "metadata": {},
   "outputs": [],
   "source": [
    "train_ds = XBDDataset('data/geotiffs/hold')\n",
    "\n",
    "train_data_loader = torch.utils.data.DataLoader(train_ds, batch_size=1, shuffle=True)"
   ]
  },
  {
   "cell_type": "code",
   "execution_count": 7,
   "id": "50008d90-3ab2-4299-8d99-19bad9888538",
   "metadata": {},
   "outputs": [],
   "source": [
    "val_ds = XBDDataset('data/geotiffs/hold')\n",
    "\n",
    "validation_data_loader = torch.utils.data.DataLoader(val_ds, batch_size=1, shuffle=False)"
   ]
  },
  {
   "cell_type": "markdown",
   "id": "203affc0-79ab-4341-b259-5da19d2872d5",
   "metadata": {},
   "source": [
    "# Fit"
   ]
  },
  {
   "cell_type": "code",
   "execution_count": 8,
   "id": "688e464a-be66-4710-8374-4474ca9a5d2f",
   "metadata": {},
   "outputs": [],
   "source": [
    "loss_fn = torch.nn.CrossEntropyLoss(weight=torch.Tensor(MODEL_ARGS['loss_weights']))"
   ]
  },
  {
   "cell_type": "code",
   "execution_count": null,
   "id": "d3e6ce76-114a-4199-9a56-6f208ea96d65",
   "metadata": {},
   "outputs": [],
   "source": [
    "compiled_model.fit(\n",
    "    train_data_loader,\n",
    "    validation_data_loader, \n",
    "    epochs=MODEL_ARGS['epochs'],\n",
    "    optimizer_name=MODEL_ARGS['optimizer'],\n",
    "    lr_init=MODEL_ARGS['LR'],\n",
    "    lr_policy=MODEL_ARGS['LR_policy'], \n",
    "    loss_fn=loss_fn,\n",
    "    checkpoint_interval=MODEL_ARGS['checkpoint_interval'],\n",
    "    resume=MODEL_ARGS['resume'],\n",
    "    resume_epoch=MODEL_ARGS['resume_epoch'],\n",
    "    **MODEL_ARGS['LR_kwargs']\n",
    ")"
   ]
  },
  {
   "cell_type": "code",
   "execution_count": null,
   "id": "e1c43353-79e4-417d-9a4f-147f1282bc1d",
   "metadata": {},
   "outputs": [],
   "source": []
  }
 ],
 "metadata": {
  "kernelspec": {
   "display_name": "Python 3 (ipykernel)",
   "language": "python",
   "name": "python3"
  },
  "language_info": {
   "codemirror_mode": {
    "name": "ipython",
    "version": 3
   },
   "file_extension": ".py",
   "mimetype": "text/x-python",
   "name": "python",
   "nbconvert_exporter": "python",
   "pygments_lexer": "ipython3",
   "version": "3.11.4"
  }
 },
 "nbformat": 4,
 "nbformat_minor": 5
}
